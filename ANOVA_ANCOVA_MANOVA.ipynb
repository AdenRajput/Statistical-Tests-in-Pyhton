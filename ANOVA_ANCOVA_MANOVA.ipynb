{
 "cells": [
  {
   "attachments": {},
   "cell_type": "markdown",
   "metadata": {},
   "source": [
    "## Notebook by **[Aden](https://twitter.com/Aden_Rajput_)**\n",
    "- adenrajput@gmail.com"
   ]
  },
  {
   "cell_type": "code",
   "execution_count": 1,
   "metadata": {},
   "outputs": [],
   "source": [
    "import pandas as pd\n",
    "import numpy as np\n",
    "import matplotlib.pyplot as plt\n",
    "import seaborn as sns\n",
    "import scipy.stats"
   ]
  },
  {
   "cell_type": "code",
   "execution_count": 2,
   "metadata": {},
   "outputs": [
    {
     "data": {
      "text/html": [
       "<div>\n",
       "<style scoped>\n",
       "    .dataframe tbody tr th:only-of-type {\n",
       "        vertical-align: middle;\n",
       "    }\n",
       "\n",
       "    .dataframe tbody tr th {\n",
       "        vertical-align: top;\n",
       "    }\n",
       "\n",
       "    .dataframe thead th {\n",
       "        text-align: right;\n",
       "    }\n",
       "</style>\n",
       "<table border=\"1\" class=\"dataframe\">\n",
       "  <thead>\n",
       "    <tr style=\"text-align: right;\">\n",
       "      <th></th>\n",
       "      <th>id</th>\n",
       "      <th>gender</th>\n",
       "      <th>age</th>\n",
       "      <th>height</th>\n",
       "      <th>diet_type</th>\n",
       "      <th>initial_weight</th>\n",
       "      <th>med_weight</th>\n",
       "      <th>final_weight</th>\n",
       "      <th>sex</th>\n",
       "    </tr>\n",
       "  </thead>\n",
       "  <tbody>\n",
       "    <tr>\n",
       "      <th>0</th>\n",
       "      <td>1</td>\n",
       "      <td>Female</td>\n",
       "      <td>22</td>\n",
       "      <td>159</td>\n",
       "      <td>A</td>\n",
       "      <td>58</td>\n",
       "      <td>40.628648</td>\n",
       "      <td>54.2</td>\n",
       "      <td>0</td>\n",
       "    </tr>\n",
       "    <tr>\n",
       "      <th>1</th>\n",
       "      <td>2</td>\n",
       "      <td>Female</td>\n",
       "      <td>46</td>\n",
       "      <td>192</td>\n",
       "      <td>A</td>\n",
       "      <td>60</td>\n",
       "      <td>66.940705</td>\n",
       "      <td>54.0</td>\n",
       "      <td>0</td>\n",
       "    </tr>\n",
       "    <tr>\n",
       "      <th>2</th>\n",
       "      <td>3</td>\n",
       "      <td>Female</td>\n",
       "      <td>55</td>\n",
       "      <td>170</td>\n",
       "      <td>A</td>\n",
       "      <td>64</td>\n",
       "      <td>74.338654</td>\n",
       "      <td>63.3</td>\n",
       "      <td>0</td>\n",
       "    </tr>\n",
       "    <tr>\n",
       "      <th>3</th>\n",
       "      <td>4</td>\n",
       "      <td>Female</td>\n",
       "      <td>33</td>\n",
       "      <td>171</td>\n",
       "      <td>A</td>\n",
       "      <td>64</td>\n",
       "      <td>42.475798</td>\n",
       "      <td>61.1</td>\n",
       "      <td>0</td>\n",
       "    </tr>\n",
       "    <tr>\n",
       "      <th>4</th>\n",
       "      <td>5</td>\n",
       "      <td>Female</td>\n",
       "      <td>50</td>\n",
       "      <td>170</td>\n",
       "      <td>A</td>\n",
       "      <td>65</td>\n",
       "      <td>86.663066</td>\n",
       "      <td>62.2</td>\n",
       "      <td>0</td>\n",
       "    </tr>\n",
       "  </tbody>\n",
       "</table>\n",
       "</div>"
      ],
      "text/plain": [
       "   id  gender  age  height diet_type  initial_weight  med_weight  \\\n",
       "0   1  Female   22     159         A              58   40.628648   \n",
       "1   2  Female   46     192         A              60   66.940705   \n",
       "2   3  Female   55     170         A              64   74.338654   \n",
       "3   4  Female   33     171         A              64   42.475798   \n",
       "4   5  Female   50     170         A              65   86.663066   \n",
       "\n",
       "   final_weight  sex  \n",
       "0          54.2    0  \n",
       "1          54.0    0  \n",
       "2          63.3    0  \n",
       "3          61.1    0  \n",
       "4          62.2    0  "
      ]
     },
     "execution_count": 2,
     "metadata": {},
     "output_type": "execute_result"
    }
   ],
   "source": [
    "df = pd.read_csv(\"diet.csv\")\n",
    "df.head()"
   ]
  },
  {
   "cell_type": "code",
   "execution_count": 3,
   "metadata": {},
   "outputs": [
    {
     "data": {
      "text/plain": [
       "array(['A', 'B', 'C'], dtype=object)"
      ]
     },
     "execution_count": 3,
     "metadata": {},
     "output_type": "execute_result"
    }
   ],
   "source": [
    "df.diet_type.unique()"
   ]
  },
  {
   "cell_type": "code",
   "execution_count": 4,
   "metadata": {},
   "outputs": [
    {
     "name": "stdout",
     "output_type": "stream",
     "text": [
      "Fail to reject H0 = Diets are not different\n"
     ]
    }
   ],
   "source": [
    "# ONE WAY ANOVA to find the difference between diet A, diet B, diet C on teh final weight\n",
    "# H0: There is no difference in each diet\n",
    "# H1: There is a difference in each diet\n",
    "\n",
    "# apply anova\n",
    "f, p = scipy.stats.f_oneway(df[df.diet_type == \"A\"].final_weight, df[df.diet_type == \"B\"].final_weight, df[df.diet_type == \"C\"].final_weight)\n",
    "\n",
    "#interpret\n",
    "alpha = 0.05\n",
    "if p < alpha:\n",
    "    print(\"Reject H0 = Diets are different\")\n",
    "else:\n",
    "    print(\"Fail to reject H0 = Diets are not different\")"
   ]
  },
  {
   "attachments": {},
   "cell_type": "markdown",
   "metadata": {},
   "source": [
    "- Two-way ANOVA (Analysis of Variance) can be used to determine if there is an interaction between two independent variables (diet_type and gender) on a continuous dependent variable (final_weight)"
   ]
  },
  {
   "cell_type": "code",
   "execution_count": 5,
   "metadata": {},
   "outputs": [
    {
     "name": "stdout",
     "output_type": "stream",
     "text": [
      "                df       sum_sq      mean_sq          F        PR(>F)\n",
      "C(diet_type)   2.0    81.234570    40.617285   1.343881  2.672943e-01\n",
      "C(gender)      1.0  2613.633642  2613.633642  86.475816  5.805535e-14\n",
      "Residual      72.0  2176.118499    30.223868        NaN           NaN\n",
      "_________________\n",
      "C(diet_type) has no significant effect on final_weight (p = 0.2672943456)\n",
      "C(gender) has a significant effect on final_weight (p = 0.0000000000)\n",
      "Residual has no significant effect on final_weight (p = nan)\n"
     ]
    }
   ],
   "source": [
    "# TWO WAY ANOVA on diet and gender \n",
    "\n",
    "\n",
    "from statsmodels.formula.api import ols\n",
    "from statsmodels.stats.anova import anova_lm\n",
    "\n",
    "# two-way ANOVA\n",
    "model = ols(\"final_weight ~ C(diet_type) + C(gender)\", data=df).fit()\n",
    "\n",
    "# Print the ANOVA table\n",
    "anova_table = anova_lm(model)\n",
    "print(anova_table)\n",
    "print(\"_________________\")\n",
    "# Extract the p-values from the ANOVA table\n",
    "p_values = anova_table['PR(>F)'].tolist()\n",
    "\n",
    "# Check if the p-value for each factor is less than 0.05\n",
    "for i, p_value in enumerate(p_values):\n",
    "    if p_value < 0.05:\n",
    "        print(f\"{anova_table.index[i]} has a significant effect on final_weight (p = {p_value:.10f})\")\n",
    "    else:\n",
    "        print(f\"{anova_table.index[i]} has no significant effect on final_weight (p = {p_value:.10f})\")\n",
    "\n"
   ]
  },
  {
   "attachments": {},
   "cell_type": "markdown",
   "metadata": {},
   "source": [
    "- ANCOVA is used to determine if there is a significant difference between two or more groups on a continuous dependent variable (final_weight) while controlling for the effect of one or more confounding variables (age)."
   ]
  },
  {
   "cell_type": "code",
   "execution_count": 6,
   "metadata": {},
   "outputs": [
    {
     "name": "stdout",
     "output_type": "stream",
     "text": [
      "                            OLS Regression Results                            \n",
      "==============================================================================\n",
      "Dep. Variable:           final_weight   R-squared:                       0.555\n",
      "Model:                            OLS   Adj. R-squared:                  0.530\n",
      "Method:                 Least Squares   F-statistic:                     22.11\n",
      "Date:                Tue, 24 Jan 2023   Prob (F-statistic):           6.99e-12\n",
      "Time:                        19:49:39   Log-Likelihood:                -235.19\n",
      "No. Observations:                  76   AIC:                             480.4\n",
      "Df Residuals:                      71   BIC:                             492.0\n",
      "Df Model:                           4                                         \n",
      "Covariance Type:            nonrobust                                         \n",
      "=====================================================================================\n",
      "                        coef    std err          t      P>|t|      [0.025      0.975]\n",
      "-------------------------------------------------------------------------------------\n",
      "Intercept            63.3937      2.927     21.662      0.000      57.558      69.229\n",
      "C(diet_type)[T.B]    -2.7875      1.584     -1.760      0.083      -5.945       0.370\n",
      "C(diet_type)[T.C]    -1.3270      1.564     -0.848      0.399      -4.446       1.792\n",
      "C(gender)[T.Male]    11.8256      1.280      9.240      0.000       9.274      14.377\n",
      "age                   0.0307      0.065      0.472      0.638      -0.099       0.160\n",
      "==============================================================================\n",
      "Omnibus:                        7.278   Durbin-Watson:                   1.258\n",
      "Prob(Omnibus):                  0.026   Jarque-Bera (JB):                6.685\n",
      "Skew:                           0.611   Prob(JB):                       0.0353\n",
      "Kurtosis:                       3.785   Cond. No.                         197.\n",
      "==============================================================================\n",
      "\n",
      "Notes:\n",
      "[1] Standard Errors assume that the covariance matrix of the errors is correctly specified.\n",
      "_____________________________\n",
      "Intercept has a significant effect on final_weight (p = 0.0000000000)\n",
      "C(diet_type)[T.B] has no significant effect on final_weight (p = 0.0826862408)\n",
      "C(diet_type)[T.C] has no significant effect on final_weight (p = 0.3990877507)\n",
      "C(gender)[T.Male] has a significant effect on final_weight (p = 0.0000000000)\n",
      "age has no significant effect on final_weight (p = 0.6382083311)\n"
     ]
    }
   ],
   "source": [
    "# ANCOVA\n",
    "\n",
    "# Perform the ANCOVA\n",
    "model = ols(\"final_weight ~ C(diet_type) + C(gender) + age\", data=df).fit()\n",
    "\n",
    "# Print the summary of the model\n",
    "print(model.summary())\n",
    "print(\"_____________________________\")\n",
    "\n",
    "\n",
    "# Extract the coefficients, p-values, and other relevant statistics\n",
    "coef = model.params\n",
    "p_values = model.pvalues\n",
    "\n",
    "# Check if the p-value for each variable is less than 0.05\n",
    "for i, p_value in enumerate(p_values):\n",
    "    if p_value < 0.05:\n",
    "        print(f\"{model.params.index[i]} has a significant effect on final_weight (p = {p_value:.10f})\")\n",
    "    else:\n",
    "        print(f\"{model.params.index[i]} has no significant effect on final_weight (p = {p_value:.10f})\")\n"
   ]
  },
  {
   "attachments": {},
   "cell_type": "markdown",
   "metadata": {},
   "source": [
    "- one-way MANOVA, there is only one independent variable, and the goal is to determine whether the means of the dependent variables differ between the levels of that independent variable. In this case, the independent variable is \"gender\" and the dependent variables are \"initial_weight,\" \"med_weight,\" and \"final_weight.\"\n",
    "\n",
    "- A one-way MANOVA test is used to determine whether there is a significant difference in the mean values of the dependent variables between the two groups defined by the independent variable (e.g. Male and Female). The test statistic and p-value are used to determine whether this difference is statistically significant"
   ]
  },
  {
   "cell_type": "code",
   "execution_count": 7,
   "metadata": {},
   "outputs": [
    {
     "data": {
      "text/html": [
       "<div>\n",
       "<style scoped>\n",
       "    .dataframe tbody tr th:only-of-type {\n",
       "        vertical-align: middle;\n",
       "    }\n",
       "\n",
       "    .dataframe tbody tr th {\n",
       "        vertical-align: top;\n",
       "    }\n",
       "\n",
       "    .dataframe thead th {\n",
       "        text-align: right;\n",
       "    }\n",
       "</style>\n",
       "<table border=\"1\" class=\"dataframe\">\n",
       "  <thead>\n",
       "    <tr style=\"text-align: right;\">\n",
       "      <th></th>\n",
       "      <th>id</th>\n",
       "      <th>gender</th>\n",
       "      <th>age</th>\n",
       "      <th>height</th>\n",
       "      <th>diet_type</th>\n",
       "      <th>initial_weight</th>\n",
       "      <th>med_weight</th>\n",
       "      <th>final_weight</th>\n",
       "      <th>sex</th>\n",
       "    </tr>\n",
       "  </thead>\n",
       "  <tbody>\n",
       "    <tr>\n",
       "      <th>0</th>\n",
       "      <td>1</td>\n",
       "      <td>Female</td>\n",
       "      <td>22</td>\n",
       "      <td>159</td>\n",
       "      <td>A</td>\n",
       "      <td>58</td>\n",
       "      <td>40.628648</td>\n",
       "      <td>54.2</td>\n",
       "      <td>0</td>\n",
       "    </tr>\n",
       "    <tr>\n",
       "      <th>1</th>\n",
       "      <td>2</td>\n",
       "      <td>Female</td>\n",
       "      <td>46</td>\n",
       "      <td>192</td>\n",
       "      <td>A</td>\n",
       "      <td>60</td>\n",
       "      <td>66.940705</td>\n",
       "      <td>54.0</td>\n",
       "      <td>0</td>\n",
       "    </tr>\n",
       "    <tr>\n",
       "      <th>2</th>\n",
       "      <td>3</td>\n",
       "      <td>Female</td>\n",
       "      <td>55</td>\n",
       "      <td>170</td>\n",
       "      <td>A</td>\n",
       "      <td>64</td>\n",
       "      <td>74.338654</td>\n",
       "      <td>63.3</td>\n",
       "      <td>0</td>\n",
       "    </tr>\n",
       "    <tr>\n",
       "      <th>3</th>\n",
       "      <td>4</td>\n",
       "      <td>Female</td>\n",
       "      <td>33</td>\n",
       "      <td>171</td>\n",
       "      <td>A</td>\n",
       "      <td>64</td>\n",
       "      <td>42.475798</td>\n",
       "      <td>61.1</td>\n",
       "      <td>0</td>\n",
       "    </tr>\n",
       "    <tr>\n",
       "      <th>4</th>\n",
       "      <td>5</td>\n",
       "      <td>Female</td>\n",
       "      <td>50</td>\n",
       "      <td>170</td>\n",
       "      <td>A</td>\n",
       "      <td>65</td>\n",
       "      <td>86.663066</td>\n",
       "      <td>62.2</td>\n",
       "      <td>0</td>\n",
       "    </tr>\n",
       "  </tbody>\n",
       "</table>\n",
       "</div>"
      ],
      "text/plain": [
       "   id  gender  age  height diet_type  initial_weight  med_weight  \\\n",
       "0   1  Female   22     159         A              58   40.628648   \n",
       "1   2  Female   46     192         A              60   66.940705   \n",
       "2   3  Female   55     170         A              64   74.338654   \n",
       "3   4  Female   33     171         A              64   42.475798   \n",
       "4   5  Female   50     170         A              65   86.663066   \n",
       "\n",
       "   final_weight  sex  \n",
       "0          54.2    0  \n",
       "1          54.0    0  \n",
       "2          63.3    0  \n",
       "3          61.1    0  \n",
       "4          62.2    0  "
      ]
     },
     "execution_count": 7,
     "metadata": {},
     "output_type": "execute_result"
    }
   ],
   "source": [
    "df.head()"
   ]
  },
  {
   "cell_type": "code",
   "execution_count": 11,
   "metadata": {},
   "outputs": [],
   "source": [
    "import pandas as pd\n",
    "import statsmodels.api as sm\n",
    "from statsmodels.multivariate.manova import MANOVA\n",
    "\n",
    "\n",
    "# make sure that all the columns are numeric\n",
    "df = df.apply(pd.to_numeric, errors='coerce')\n",
    "\n",
    "# drop any rows with missing values\n",
    "df.dropna(inplace=True)\n",
    "\n",
    "# specify dependent variables\n",
    "y = df[[\"initial_weight\", \"med_weight\", \"final_weight\"]]\n",
    "\n",
    "# specify independent variable\n",
    "x = df[\"gender\"]\n",
    "\n",
    "# perform the manova\n",
    "manova = MANOVA(y, x)\n",
    "results = manova.mv_test()\n",
    "\n",
    "# print the results\n",
    "print(results)\n"
   ]
  },
  {
   "cell_type": "code",
   "execution_count": null,
   "metadata": {},
   "outputs": [],
   "source": []
  }
 ],
 "metadata": {
  "kernelspec": {
   "display_name": "Python 3",
   "language": "python",
   "name": "python3"
  },
  "language_info": {
   "codemirror_mode": {
    "name": "ipython",
    "version": 3
   },
   "file_extension": ".py",
   "mimetype": "text/x-python",
   "name": "python",
   "nbconvert_exporter": "python",
   "pygments_lexer": "ipython3",
   "version": "3.10.2"
  },
  "orig_nbformat": 4,
  "vscode": {
   "interpreter": {
    "hash": "8c3d4d9970fc5c09c50d9318a9c7fbf4d0159e4b28833276f5678ee22bded273"
   }
  }
 },
 "nbformat": 4,
 "nbformat_minor": 2
}
